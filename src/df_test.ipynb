{
 "cells": [
  {
   "cell_type": "code",
   "execution_count": 7,
   "id": "9b22b274",
   "metadata": {},
   "outputs": [],
   "source": [
    "import time\n",
    "import psutil\n",
    "import requests\n",
    "import json\n",
    "from datasets import load_dataset\n",
    "from threading import Thread"
   ]
  },
  {
   "cell_type": "code",
   "execution_count": 8,
   "id": "83b73616",
   "metadata": {},
   "outputs": [
    {
     "name": "stderr",
     "output_type": "stream",
     "text": [
      "Generating train split: 100%|██████████| 180/180 [00:00<00:00, 30909.92 examples/s]\n"
     ]
    }
   ],
   "source": [
    "ds = load_dataset(\"maritaca-ai/enem\", \"2022\")"
   ]
  },
  {
   "cell_type": "code",
   "execution_count": 9,
   "id": "7ad3f441",
   "metadata": {},
   "outputs": [
    {
     "name": "stdout",
     "output_type": "stream",
     "text": [
      "[[placeholder]]\n",
      "Nessa tirinha, o comportamento da mulher expressa\n",
      "\n",
      "A. revolta com a falta de sorte.\n",
      "B. gosto pela prática da leitura.\n",
      "C. receio pelo futuro do casamento.\n",
      "D. entusiasmo com os livros de terror.\n",
      "E. rejeição ao novo tipo de residência. ['revolta com a falta de sorte.', 'gosto pela prática da leitura.', 'receio pelo futuro do casamento.', 'entusiasmo com os livros de terror.', 'rejeição ao novo tipo de residência.']\n"
     ]
    }
   ],
   "source": [
    "questoes = ds['train']\n",
    "\n",
    "for i in range(1):\n",
    "    questao = questoes[i]\n",
    "    texto = questao[\"question\"]\n",
    "    alternativas = questao.get(\"alternatives\", [])\n",
    "    descricao = questao.get(\"description\", \"\")\n",
    "    correta = questao.get(\"label\", \"\")  # 'label' é o índice da alternativa correta\n",
    "    full_question = f\"{texto}\\n\\n\" + \"\\n\".join([f\"{chr(65 + i)}. {alt}\" for i, alt in enumerate(alternativas)])\n",
    "\n",
    "    print(full_question, alternativas)\n"
   ]
  }
 ],
 "metadata": {
  "kernelspec": {
   "display_name": "coruja-py3.11",
   "language": "python",
   "name": "python3"
  },
  "language_info": {
   "codemirror_mode": {
    "name": "ipython",
    "version": 3
   },
   "file_extension": ".py",
   "mimetype": "text/x-python",
   "name": "python",
   "nbconvert_exporter": "python",
   "pygments_lexer": "ipython3",
   "version": "3.11.2"
  }
 },
 "nbformat": 4,
 "nbformat_minor": 5
}
