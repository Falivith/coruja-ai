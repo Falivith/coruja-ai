{
 "cells": [
  {
   "cell_type": "code",
   "execution_count": 2,
   "id": "9b22b274",
   "metadata": {},
   "outputs": [
    {
     "name": "stderr",
     "output_type": "stream",
     "text": [
      "/home/faliv/Desktop/TCC/coruja-ai/.venv/lib/python3.11/site-packages/tqdm/auto.py:21: TqdmWarning: IProgress not found. Please update jupyter and ipywidgets. See https://ipywidgets.readthedocs.io/en/stable/user_install.html\n",
      "  from .autonotebook import tqdm as notebook_tqdm\n"
     ]
    }
   ],
   "source": [
    "from datasets import load_dataset"
   ]
  },
  {
   "cell_type": "code",
   "execution_count": 3,
   "id": "83b73616",
   "metadata": {},
   "outputs": [],
   "source": [
    "ds1 = load_dataset(\"maritaca-ai/enem\", \"2022\")\n",
    "ds2 = load_dataset(\"maritaca-ai/enem\", \"2023\")\n",
    "ds3 = load_dataset(\"maritaca-ai/enem\", \"2024\")"
   ]
  },
  {
   "cell_type": "code",
   "execution_count": 6,
   "id": "c27d897b",
   "metadata": {},
   "outputs": [
    {
     "name": "stdout",
     "output_type": "stream",
     "text": [
      "180 180 180\n"
     ]
    }
   ],
   "source": [
    "questoes1 = ds1['train']\n",
    "questoes2 = ds2['train']\n",
    "questoes3 = ds3['train']\n",
    "\n",
    "print(len(questoes1), len(questoes2), len(questoes3))"
   ]
  },
  {
   "cell_type": "code",
   "execution_count": 7,
   "id": "7ad3f441",
   "metadata": {},
   "outputs": [
    {
     "data": {
      "text/plain": [
       "{'id': 'questao_158',\n",
       " 'exam': '2022',\n",
       " 'IU': False,\n",
       " 'ledor': True,\n",
       " 'question': 'Ao analisar os dados de uma epidemia em uma cidade, peritos obtiveram um modelo que avalia a quantidade de pessoas infectadas a cada mês, ao longo de um ano. O modelo é dado por p de t é igual a menos t ao quadrado mais 10 vezes t mais 24, sendo t um número natural, variando de 1 a 12, que representa os meses do ano, e p de t a quantidade de pessoas infectadas no mês t do ano. Para tentar diminuir o número de infectados no próximo ano, a Secretaria Municipal de Saúde decidiu intensificar a propaganda oficial sobre os cuidados com a epidemia. Foram apresentadas cinco propostas (1, 2, 3, 4 e 5), com diferentes períodos de intensificação das propagandas:\\n• 1: 1 menor ou igual a t menor ou igual a 2;\\n• 2: 3 menor ou igual a t menor ou igual a 4;\\n• 3: 5 menor ou igual a t menor ou igual a 6;\\n• 4: 7 menor ou igual a t menor ou igual a 9;\\n• 5: 10 menor ou igual a t menor ou igual a 12.\\nA sugestão dos peritos é que seja escolhida a proposta cujo período de intensificação da propaganda englobe o mês em que, segundo o modelo, há a maior quantidade de infectados. A sugestão foi aceita. A proposta escolhida foi a',\n",
       " 'description': [],\n",
       " 'alternatives': ['1', '2', '3', '4', '5'],\n",
       " 'label': 'C',\n",
       " 'figures': []}"
      ]
     },
     "metadata": {},
     "output_type": "display_data"
    }
   ],
   "source": [
    "questoes = ds1['train']\n",
    "\n",
    "questao = questoes[157]\n",
    "texto = questao[\"question\"]\n",
    "alternativas = questao.get(\"alternatives\", [])\n",
    "descricao = questao.get(\"description\", \"\")\n",
    "correta = questao.get(\"label\", \"\")  # 'label' é o índice da alternativa correta\n",
    "full_question = f\"{texto}\\n\\n\" + \"\\n\".join([f\"{chr(65 + i)}. {alt}\" for i, alt in enumerate(alternativas)])\n",
    "\n",
    "display(questao)\n"
   ]
  }
 ],
 "metadata": {
  "kernelspec": {
   "display_name": "coruja-py3.11",
   "language": "python",
   "name": "python3"
  },
  "language_info": {
   "codemirror_mode": {
    "name": "ipython",
    "version": 3
   },
   "file_extension": ".py",
   "mimetype": "text/x-python",
   "name": "python",
   "nbconvert_exporter": "python",
   "pygments_lexer": "ipython3",
   "version": "3.11.2"
  }
 },
 "nbformat": 4,
 "nbformat_minor": 5
}
