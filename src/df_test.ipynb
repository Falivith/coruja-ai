{
 "cells": [
  {
   "cell_type": "code",
   "execution_count": 1,
   "id": "9b22b274",
   "metadata": {},
   "outputs": [],
   "source": [
    "from datasets import load_dataset"
   ]
  },
  {
   "cell_type": "code",
   "execution_count": 2,
   "id": "83b73616",
   "metadata": {},
   "outputs": [],
   "source": [
    "ds1 = load_dataset(\"maritaca-ai/enem\", \"2022\")\n",
    "ds2 = load_dataset(\"maritaca-ai/enem\", \"2023\")\n",
    "ds3 = load_dataset(\"maritaca-ai/enem\", \"2024\")"
   ]
  },
  {
   "cell_type": "code",
   "execution_count": 3,
   "id": "c27d897b",
   "metadata": {},
   "outputs": [
    {
     "name": "stdout",
     "output_type": "stream",
     "text": [
      "180 180 180\n"
     ]
    }
   ],
   "source": [
    "questoes1 = ds1['train']\n",
    "questoes2 = ds2['train']\n",
    "questoes3 = ds3['train']\n",
    "\n",
    "print(len(questoes1), len(questoes2), len(questoes3))"
   ]
  },
  {
   "cell_type": "code",
   "execution_count": 14,
   "id": "7ad3f441",
   "metadata": {},
   "outputs": [
    {
     "data": {
      "text/plain": [
       "'## Se você é feito de música, este texto é pra você\\nÀs vezes, no silêncio da noite, eu fico imaginando: que graça teria a vida sem música? Sem ela não há paz, não há beleza. Nos dias de festa e nas madrugadas de pranto, nas trilhas dos filmes e nas corridas no parque, o que seria de nós sem as canções que enfeitam o cotidiano com ritmo e verso? Quem nunca curou uma dor de cotovelo dançando lambada ou terminou de se afundar ouvindo sertanejo sofrência? Quantos já criticaram funk e fecharam a noite descendo até o chão? Tudo bem... Raul nos ensinou que é preferível ser essa metamorfose ambulante do que ter aquela velha opinião formada sobre tudo.\\nJá somos castigados com o peso das tragédias, o barulho das buzinas, os ruídos dos conflitos. É pau, é pedra, é o fim do caminho. Há uma nuvem de lágrimas sobre os olhos, você está na lanterna dos afogados, o coração despedaçado. Mas, como um sopro, da janela do vizinho, entra o samba que reanima a mente. Floresce do fundo do nosso quintal a batida que ressuscita o ânimo, sintoniza a alegria e equaliza o fôlego. Levanta, sacode a poeira, dá a volta por cima.\\nDefendendo a importância da música para o bem-estar e o equilíbrio emocional das pessoas, a autora usa, como recurso persuasivo, a'"
      ]
     },
     "metadata": {},
     "output_type": "display_data"
    }
   ],
   "source": [
    "questoes = ds3['train']\n",
    "\n",
    "questao = questoes[5]\n",
    "texto = questao[\"question\"]\n",
    "alternativas = questao.get(\"alternatives\", [])\n",
    "descricao = questao.get(\"description\", \"\")\n",
    "correta = questao.get(\"label\", \"\")  # 'label' é o índice da alternativa correta\n",
    "full_question = f\"{texto}\\n\\n\" + \"\\n\".join([f\"{chr(65 + i)}. {alt}\" for i, alt in enumerate(alternativas)])\n",
    "\n",
    "display(texto)\n"
   ]
  }
 ],
 "metadata": {
  "kernelspec": {
   "display_name": "coruja-py3.11",
   "language": "python",
   "name": "python3"
  },
  "language_info": {
   "codemirror_mode": {
    "name": "ipython",
    "version": 3
   },
   "file_extension": ".py",
   "mimetype": "text/x-python",
   "name": "python",
   "nbconvert_exporter": "python",
   "pygments_lexer": "ipython3",
   "version": "3.11.2"
  }
 },
 "nbformat": 4,
 "nbformat_minor": 5
}
