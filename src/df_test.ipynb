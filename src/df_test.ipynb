{
 "cells": [
  {
   "cell_type": "code",
   "execution_count": 2,
   "id": "9b22b274",
   "metadata": {},
   "outputs": [
    {
     "name": "stderr",
     "output_type": "stream",
     "text": [
      "/home/faliv/Desktop/TCC/coruja-ai/.venv/lib/python3.11/site-packages/tqdm/auto.py:21: TqdmWarning: IProgress not found. Please update jupyter and ipywidgets. See https://ipywidgets.readthedocs.io/en/stable/user_install.html\n",
      "  from .autonotebook import tqdm as notebook_tqdm\n"
     ]
    }
   ],
   "source": [
    "import time\n",
    "import psutil\n",
    "import requests\n",
    "import json\n",
    "from datasets import load_dataset\n",
    "from threading import Thread"
   ]
  },
  {
   "cell_type": "code",
   "execution_count": 3,
   "id": "83b73616",
   "metadata": {},
   "outputs": [],
   "source": [
    "ds = load_dataset(\"maritaca-ai/enem\", \"2024\")"
   ]
  },
  {
   "cell_type": "code",
   "execution_count": 14,
   "id": "7ad3f441",
   "metadata": {},
   "outputs": [
    {
     "name": "stdout",
     "output_type": "stream",
     "text": [
      "## Holy War\n",
      "Oh, so we can hate each other and fear each other\n",
      "We can build these walls between each other Baby, blow by blow and brick by brick Keep yourself locked in, yourself locked in\n",
      "[…]\n",
      "Oh, maybe we should love somebody\n",
      "Oh, maybe we could care a little more\n",
      "So maybe we should love somebody\n",
      "Instead of polishing the bombs of holy war\n",
      "Nessa letra de canção, de Alicia Keys, que aborda um contexto de ódio e intolerância, o marcador “instead of ” introduz a ideia de\n",
      "\n",
      "A. mudança de comportamento.\n",
      "B. panorama de conflitos.\n",
      "C. rotina de isolamento.\n",
      "D. perspectiva bélica.\n",
      "E. cenário religioso. ['mudança de comportamento.', 'panorama de conflitos.', 'rotina de isolamento.', 'perspectiva bélica.', 'cenário religioso.']\n"
     ]
    }
   ],
   "source": [
    "questoes = ds['train']\n",
    "\n",
    "for i in range(1):\n",
    "    questao = questoes[i]\n",
    "    texto = questao[\"question\"]\n",
    "    alternativas = questao.get(\"alternatives\", [])\n",
    "    descricao = questao.get(\"description\", \"\")\n",
    "    correta = questao.get(\"label\", \"\")  # 'label' é o índice da alternativa correta\n",
    "    full_question = f\"{texto}\\n\\n\" + \"\\n\".join([f\"{chr(65 + i)}. {alt}\" for i, alt in enumerate(alternativas)])\n",
    "\n",
    "    print(full_question, alternativas)\n"
   ]
  }
 ],
 "metadata": {
  "kernelspec": {
   "display_name": ".venv",
   "language": "python",
   "name": "python3"
  },
  "language_info": {
   "codemirror_mode": {
    "name": "ipython",
    "version": 3
   },
   "file_extension": ".py",
   "mimetype": "text/x-python",
   "name": "python",
   "nbconvert_exporter": "python",
   "pygments_lexer": "ipython3",
   "version": "3.11.2"
  }
 },
 "nbformat": 4,
 "nbformat_minor": 5
}
